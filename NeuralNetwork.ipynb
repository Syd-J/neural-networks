{
 "cells": [
  {
   "cell_type": "code",
   "execution_count": 1,
   "id": "85cd2b6b",
   "metadata": {},
   "outputs": [],
   "source": [
    "import numpy as np"
   ]
  },
  {
   "cell_type": "code",
   "execution_count": 2,
   "id": "bb3acd21",
   "metadata": {},
   "outputs": [],
   "source": [
    "def sigmoid(x):\n",
    "    return 1./(1. + np.exp(-x))\n",
    "\n",
    "def sigmoid_grad(x):\n",
    "    return x * (1 - x)"
   ]
  },
  {
   "cell_type": "code",
   "execution_count": 3,
   "id": "681982cd",
   "metadata": {},
   "outputs": [],
   "source": [
    "class NeuralNetwork:\n",
    "    def __init__(self, layers):\n",
    "        self.layers = layers\n",
    "        self.parameters = self.initialize_parameters()\n",
    "        \n",
    "    def initialize_parameters(self):\n",
    "        layers = self.layers\n",
    "        parameters = {}\n",
    "        for i in range(1, len(layers)):\n",
    "            parameters['W'+str(i)] = np.random.rand(layers[i], layers[i-1])\n",
    "            parameters['b'+str(i)] = np.zeros((layers[i], 1))\n",
    "        return parameters\n",
    "    \n",
    "    def forward_propagation(self, X, parameters):\n",
    "        A = X\n",
    "        layers = self.layers\n",
    "        caches = [(None, X)]\n",
    "        for i in range(1, len(layers)):\n",
    "            W = parameters['W'+str(i)]\n",
    "            b = parameters['b'+str(i)]\n",
    "            Z = np.dot(W, A) + b\n",
    "            A = sigmoid(Z)\n",
    "            cache = (Z, A)\n",
    "            caches.append(cache)\n",
    "        return caches\n",
    "    \n",
    "    def compute_derivatives(self, caches, parameters, Y):\n",
    "        m = len(Y)\n",
    "        layers = self.layers\n",
    "        Z, A = caches[-1]\n",
    "        dA = (1 - Y)/(1 - A) - Y/A\n",
    "        derivatives = {}\n",
    "        for i in range(len(layers) - 1, 0, -1):\n",
    "            Z, A = caches[i]\n",
    "            dZ = dA * sigmoid_grad(A)\n",
    "            Z_prev, A_prev = caches[i-1]\n",
    "            derivatives['dW'+str(i)] = np.dot(dZ, A_prev.T) / m\n",
    "            derivatives['db'+str(i)] = np.sum(dZ, axis=1, keepdims=True) / m\n",
    "            W = parameters['W'+str(i)]\n",
    "            dA = np.dot(W.T, dZ)\n",
    "        return derivatives\n",
    "    \n",
    "    def backward_propagation(self, derivatives, parameters, learning_rate=0.01):\n",
    "        layers = self.layers\n",
    "        for i in range(1, len(layers)):\n",
    "            parameters['W'+str(i)] -= learning_rate * derivatives['dW'+str(i)]\n",
    "            parameters['b'+str(i)] -= learning_rate * derivatives['db'+str(i)]\n",
    "        return parameters\n",
    "    \n",
    "    def train(self, X, Y, num_iter=1000, learning_rate=0.01):\n",
    "        parameters = self.parameters\n",
    "        for i in range(num_iter):\n",
    "            caches = self.forward_propagation(X, parameters)\n",
    "            derivatives = self.compute_derivatives(caches, parameters, Y)\n",
    "            parameters = self.backward_propagation(derivatives, parameters, learning_rate)\n",
    "            \n",
    "    def predict(self, X):\n",
    "        caches = self.forward_propagation(X, self.parameters)\n",
    "        return caches[-1][1]"
   ]
  },
  {
   "cell_type": "code",
   "execution_count": 4,
   "id": "70cb54dc",
   "metadata": {},
   "outputs": [],
   "source": [
    "nn = NeuralNetwork([2, 3, 4, 1])\n",
    "X = np.array([[0., 0., 1., 1.], [0., 1., 0., 1.]])\n",
    "Y = np.array([[1., 0., 0., 1.]])\n",
    "nn.train(X, Y, 1000, 0.5)"
   ]
  },
  {
   "cell_type": "code",
   "execution_count": 5,
   "id": "352544ba",
   "metadata": {},
   "outputs": [
    {
     "name": "stdout",
     "output_type": "stream",
     "text": [
      "[[0.00211596]]\n"
     ]
    }
   ],
   "source": [
    "print(nn.predict(np.array([[0.], [1.]])))"
   ]
  },
  {
   "cell_type": "code",
   "execution_count": null,
   "id": "71d96d84",
   "metadata": {},
   "outputs": [],
   "source": []
  }
 ],
 "metadata": {
  "kernelspec": {
   "display_name": "Python 3 (ipykernel)",
   "language": "python",
   "name": "python3"
  },
  "language_info": {
   "codemirror_mode": {
    "name": "ipython",
    "version": 3
   },
   "file_extension": ".py",
   "mimetype": "text/x-python",
   "name": "python",
   "nbconvert_exporter": "python",
   "pygments_lexer": "ipython3",
   "version": "3.10.9"
  }
 },
 "nbformat": 4,
 "nbformat_minor": 5
}
