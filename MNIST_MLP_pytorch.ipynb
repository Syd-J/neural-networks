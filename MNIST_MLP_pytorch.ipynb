{
 "cells": [
  {
   "cell_type": "code",
   "execution_count": 1,
   "id": "0ebef618",
   "metadata": {},
   "outputs": [],
   "source": [
    "import torch\n",
    "from torch import nn\n",
    "import torchvision\n",
    "from torchvision import transforms"
   ]
  },
  {
   "cell_type": "code",
   "execution_count": 2,
   "id": "70ad604f",
   "metadata": {},
   "outputs": [],
   "source": [
    "device = torch.device('cuda' if torch.cuda.is_available() else 'cpu')"
   ]
  },
  {
   "cell_type": "code",
   "execution_count": 3,
   "id": "af187bd5",
   "metadata": {},
   "outputs": [],
   "source": [
    "input_size = 784\n",
    "hidden_size = 500\n",
    "num_classes = 10\n",
    "num_epochs = 5\n",
    "batch_size = 100\n",
    "learning_rate = 0.001"
   ]
  },
  {
   "cell_type": "code",
   "execution_count": 4,
   "id": "86c35210",
   "metadata": {},
   "outputs": [],
   "source": [
    "train_dataset = torchvision.datasets.MNIST(root='data',\n",
    "                                          train=True,\n",
    "                                          download=True,\n",
    "                                          transform=transforms.ToTensor())\n",
    "\n",
    "test_dataset = torchvision.datasets.MNIST(root='data',\n",
    "                                         train=False,\n",
    "                                         download=True,\n",
    "                                         transform=transforms.ToTensor())"
   ]
  },
  {
   "cell_type": "code",
   "execution_count": 5,
   "id": "88a298d7",
   "metadata": {},
   "outputs": [],
   "source": [
    "train_loader = torch.utils.data.DataLoader(dataset=train_dataset,\n",
    "                                          batch_size=batch_size,\n",
    "                                          shuffle=True)\n",
    "\n",
    "test_loader = torch.utils.data.DataLoader(dataset=test_dataset,\n",
    "                                         batch_size=batch_size,\n",
    "                                         shuffle=False)"
   ]
  },
  {
   "cell_type": "code",
   "execution_count": 6,
   "id": "c11198cb",
   "metadata": {},
   "outputs": [],
   "source": [
    "class NeuralNetwork(nn.Module):\n",
    "    def __init__(self, input_size, hidden_size, num_classes):\n",
    "        super(NeuralNetwork, self).__init__()\n",
    "        self.fc1 = nn.Linear(input_size, hidden_size)\n",
    "        self.relu = nn.ReLU()\n",
    "        self.fc2  = nn.Linear(hidden_size, num_classes)\n",
    "        \n",
    "    def forward(self, x):\n",
    "        out = self.fc1(x)\n",
    "        out = self.relu(out)\n",
    "        out = self.fc2(out)\n",
    "        return out"
   ]
  },
  {
   "cell_type": "code",
   "execution_count": 7,
   "id": "e7685567",
   "metadata": {},
   "outputs": [],
   "source": [
    "model = NeuralNetwork(input_size, hidden_size, num_classes).to(device)"
   ]
  },
  {
   "cell_type": "code",
   "execution_count": 8,
   "id": "647061b7",
   "metadata": {},
   "outputs": [],
   "source": [
    "criterion = nn.CrossEntropyLoss()\n",
    "optimizer = torch.optim.Adam(model.parameters(), lr=learning_rate)"
   ]
  },
  {
   "cell_type": "code",
   "execution_count": 9,
   "id": "155e3a4d",
   "metadata": {},
   "outputs": [
    {
     "name": "stdout",
     "output_type": "stream",
     "text": [
      "Epoch: [1/5], Step: [100/600], Loss: 0.2914\n",
      "Epoch: [1/5], Step: [200/600], Loss: 0.5347\n",
      "Epoch: [1/5], Step: [300/600], Loss: 0.2182\n",
      "Epoch: [1/5], Step: [400/600], Loss: 0.2160\n",
      "Epoch: [1/5], Step: [500/600], Loss: 0.2449\n",
      "Epoch: [1/5], Step: [600/600], Loss: 0.1043\n",
      "Epoch: [2/5], Step: [100/600], Loss: 0.1123\n",
      "Epoch: [2/5], Step: [200/600], Loss: 0.0908\n",
      "Epoch: [2/5], Step: [300/600], Loss: 0.1022\n",
      "Epoch: [2/5], Step: [400/600], Loss: 0.1521\n",
      "Epoch: [2/5], Step: [500/600], Loss: 0.0757\n",
      "Epoch: [2/5], Step: [600/600], Loss: 0.1053\n",
      "Epoch: [3/5], Step: [100/600], Loss: 0.0679\n",
      "Epoch: [3/5], Step: [200/600], Loss: 0.0746\n",
      "Epoch: [3/5], Step: [300/600], Loss: 0.1763\n",
      "Epoch: [3/5], Step: [400/600], Loss: 0.1015\n",
      "Epoch: [3/5], Step: [500/600], Loss: 0.0688\n",
      "Epoch: [3/5], Step: [600/600], Loss: 0.0307\n",
      "Epoch: [4/5], Step: [100/600], Loss: 0.0197\n",
      "Epoch: [4/5], Step: [200/600], Loss: 0.0375\n",
      "Epoch: [4/5], Step: [300/600], Loss: 0.0754\n",
      "Epoch: [4/5], Step: [400/600], Loss: 0.0495\n",
      "Epoch: [4/5], Step: [500/600], Loss: 0.0444\n",
      "Epoch: [4/5], Step: [600/600], Loss: 0.0577\n",
      "Epoch: [5/5], Step: [100/600], Loss: 0.0312\n",
      "Epoch: [5/5], Step: [200/600], Loss: 0.0249\n",
      "Epoch: [5/5], Step: [300/600], Loss: 0.0357\n",
      "Epoch: [5/5], Step: [400/600], Loss: 0.0228\n",
      "Epoch: [5/5], Step: [500/600], Loss: 0.0289\n",
      "Epoch: [5/5], Step: [600/600], Loss: 0.0179\n"
     ]
    }
   ],
   "source": [
    "total_step = len(train_loader)\n",
    "for epoch in range(num_epochs):\n",
    "    for i, (img, label) in enumerate(train_loader):\n",
    "        img = img.reshape(-1, 28*28).to(device)\n",
    "        label = label.to(device)\n",
    "        \n",
    "        output = model(img)\n",
    "        loss = criterion(output, label)\n",
    "        \n",
    "        optimizer.zero_grad()\n",
    "        loss.backward()\n",
    "        optimizer.step()\n",
    "        \n",
    "        if(i+1) % 100 == 0:\n",
    "            print('Epoch: [{}/{}], Step: [{}/{}], Loss: {:.4f}'.format(epoch+1, num_epochs, i+1, total_step, loss.item()))"
   ]
  },
  {
   "cell_type": "code",
   "execution_count": 10,
   "id": "04a201e8",
   "metadata": {},
   "outputs": [
    {
     "name": "stdout",
     "output_type": "stream",
     "text": [
      "Accuracy of the network on the 10000 test images: 98.01 %\n"
     ]
    }
   ],
   "source": [
    "with torch.no_grad():\n",
    "    correct = 0\n",
    "    total = 0\n",
    "    for img, label in test_loader:\n",
    "        img = img.reshape(-1, 28*28).to(device)\n",
    "        label = label.to(device)\n",
    "        output = model(img)\n",
    "        _, predicted = torch.max(output.data, 1)\n",
    "        total += label.size(0)\n",
    "        correct += (predicted == label).sum().item()\n",
    "    \n",
    "    print('Accuracy of the network on the 10000 test images: {} %'.format(100 * correct / total))"
   ]
  },
  {
   "cell_type": "code",
   "execution_count": null,
   "id": "cfaa53b0",
   "metadata": {},
   "outputs": [],
   "source": []
  }
 ],
 "metadata": {
  "kernelspec": {
   "display_name": "Python 3 (ipykernel)",
   "language": "python",
   "name": "python3"
  },
  "language_info": {
   "codemirror_mode": {
    "name": "ipython",
    "version": 3
   },
   "file_extension": ".py",
   "mimetype": "text/x-python",
   "name": "python",
   "nbconvert_exporter": "python",
   "pygments_lexer": "ipython3",
   "version": "3.11.5"
  }
 },
 "nbformat": 4,
 "nbformat_minor": 5
}
