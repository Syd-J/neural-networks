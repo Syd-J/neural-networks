{
 "cells": [
  {
   "cell_type": "code",
   "execution_count": 1,
   "id": "8df51eb1",
   "metadata": {},
   "outputs": [],
   "source": [
    "import torch\n",
    "import torchvision\n",
    "from torch import nn\n",
    "from torch.utils.data import DataLoader\n",
    "from torchvision.transforms import ToTensor"
   ]
  },
  {
   "cell_type": "code",
   "execution_count": 2,
   "id": "fd8d920c",
   "metadata": {},
   "outputs": [],
   "source": [
    "device = torch.device('cuda' if torch.cuda.is_available() else 'cpu')"
   ]
  },
  {
   "cell_type": "code",
   "execution_count": 3,
   "id": "70aff9c5",
   "metadata": {},
   "outputs": [],
   "source": [
    "num_epochs = 5\n",
    "num_classes = 10\n",
    "batch_size = 100\n",
    "learning_rate = 0.001"
   ]
  },
  {
   "cell_type": "code",
   "execution_count": 4,
   "id": "e81acde1",
   "metadata": {},
   "outputs": [],
   "source": [
    "train_dataset = torchvision.datasets.MNIST(root='data',\n",
    "                                          train=True,\n",
    "                                          download=True,\n",
    "                                          transform=ToTensor())\n",
    "\n",
    "test_dataset = torchvision.datasets.MNIST(root='data',\n",
    "                                         train=False,\n",
    "                                         download=True,\n",
    "                                         transform=ToTensor())"
   ]
  },
  {
   "cell_type": "code",
   "execution_count": 5,
   "id": "8bbd520c",
   "metadata": {},
   "outputs": [],
   "source": [
    "train_dataloader = DataLoader(train_dataset,\n",
    "                             batch_size=batch_size,\n",
    "                             shuffle=True)\n",
    "\n",
    "test_dataloader = DataLoader(test_dataset,\n",
    "                            batch_size=batch_size,\n",
    "                            shuffle=False)"
   ]
  },
  {
   "cell_type": "code",
   "execution_count": 6,
   "id": "a7f5930e",
   "metadata": {},
   "outputs": [],
   "source": [
    "class ConvNet(nn.Module):\n",
    "    def __init__(self, num_classes=10):\n",
    "        super(ConvNet, self).__init__()\n",
    "        self.layer1 = nn.Sequential(\n",
    "            nn.Conv2d(1, 16, kernel_size=5, stride=1, padding=2),\n",
    "            nn.BatchNorm2d(16),\n",
    "            nn.ReLU(),\n",
    "            nn.MaxPool2d(kernel_size=2, stride=2)\n",
    "        )\n",
    "        self.layer2 = nn.Sequential(\n",
    "            nn.Conv2d(16, 32, kernel_size=5, stride=1, padding=2),\n",
    "            nn.BatchNorm2d(32),\n",
    "            nn.ReLU(),\n",
    "            nn.MaxPool2d(kernel_size=2, stride=2)\n",
    "        )\n",
    "        self.fc = nn.Linear(7*7*32, num_classes)\n",
    "        \n",
    "    def forward(self, x):\n",
    "        out = self.layer1(x)\n",
    "        out = self.layer2(out)\n",
    "        out = out.reshape(out.size(0), -1)\n",
    "        out = self.fc(out)\n",
    "        return out"
   ]
  },
  {
   "cell_type": "code",
   "execution_count": 7,
   "id": "fa559cea",
   "metadata": {},
   "outputs": [],
   "source": [
    "model = ConvNet(num_classes).to(device)"
   ]
  },
  {
   "cell_type": "code",
   "execution_count": 8,
   "id": "ae9fb176",
   "metadata": {},
   "outputs": [],
   "source": [
    "criterion = nn.CrossEntropyLoss()\n",
    "optimizer = torch.optim.Adam(model.parameters(), lr=learning_rate)"
   ]
  },
  {
   "cell_type": "code",
   "execution_count": 9,
   "id": "4949aa39",
   "metadata": {
    "scrolled": false
   },
   "outputs": [
    {
     "name": "stdout",
     "output_type": "stream",
     "text": [
      "Epoch: [1/5], Step: [100/600], Loss: 0.0870\n",
      "Epoch: [1/5], Step: [200/600], Loss: 0.1001\n",
      "Epoch: [1/5], Step: [300/600], Loss: 0.1088\n",
      "Epoch: [1/5], Step: [400/600], Loss: 0.0853\n",
      "Epoch: [1/5], Step: [500/600], Loss: 0.0194\n",
      "Epoch: [1/5], Step: [600/600], Loss: 0.0960\n",
      "Epoch: [2/5], Step: [100/600], Loss: 0.0367\n",
      "Epoch: [2/5], Step: [200/600], Loss: 0.0481\n",
      "Epoch: [2/5], Step: [300/600], Loss: 0.0593\n",
      "Epoch: [2/5], Step: [400/600], Loss: 0.0301\n",
      "Epoch: [2/5], Step: [500/600], Loss: 0.0232\n",
      "Epoch: [2/5], Step: [600/600], Loss: 0.0263\n",
      "Epoch: [3/5], Step: [100/600], Loss: 0.0232\n",
      "Epoch: [3/5], Step: [200/600], Loss: 0.0609\n",
      "Epoch: [3/5], Step: [300/600], Loss: 0.0353\n",
      "Epoch: [3/5], Step: [400/600], Loss: 0.0274\n",
      "Epoch: [3/5], Step: [500/600], Loss: 0.0308\n",
      "Epoch: [3/5], Step: [600/600], Loss: 0.0426\n",
      "Epoch: [4/5], Step: [100/600], Loss: 0.0053\n",
      "Epoch: [4/5], Step: [200/600], Loss: 0.0159\n",
      "Epoch: [4/5], Step: [300/600], Loss: 0.0233\n",
      "Epoch: [4/5], Step: [400/600], Loss: 0.0018\n",
      "Epoch: [4/5], Step: [500/600], Loss: 0.0151\n",
      "Epoch: [4/5], Step: [600/600], Loss: 0.0036\n",
      "Epoch: [5/5], Step: [100/600], Loss: 0.0140\n",
      "Epoch: [5/5], Step: [200/600], Loss: 0.0105\n",
      "Epoch: [5/5], Step: [300/600], Loss: 0.0046\n",
      "Epoch: [5/5], Step: [400/600], Loss: 0.0058\n",
      "Epoch: [5/5], Step: [500/600], Loss: 0.0122\n",
      "Epoch: [5/5], Step: [600/600], Loss: 0.0196\n"
     ]
    }
   ],
   "source": [
    "total_step = len(train_dataloader)\n",
    "for epoch in range(num_epochs):\n",
    "    for i, (img, label) in enumerate(train_dataloader):\n",
    "        img = img.to(device)\n",
    "        label = label.to(device)\n",
    "        \n",
    "        output = model(img)\n",
    "        loss = criterion(output, label)\n",
    "        \n",
    "        optimizer.zero_grad()\n",
    "        loss.backward()\n",
    "        optimizer.step()\n",
    "        \n",
    "        if (i+1) % 100 == 0:\n",
    "            print('Epoch: [{}/{}], Step: [{}/{}], Loss: {:.4f}'.format(epoch+1, num_epochs, i+1, total_step, loss))"
   ]
  },
  {
   "cell_type": "code",
   "execution_count": 10,
   "id": "69cb3140",
   "metadata": {},
   "outputs": [
    {
     "name": "stdout",
     "output_type": "stream",
     "text": [
      "Test Accuracy of the model on the 10000 test images: 98.86 %\n"
     ]
    }
   ],
   "source": [
    "model.eval()\n",
    "with torch.no_grad():\n",
    "    correct = 0\n",
    "    total = 0\n",
    "    for img, label in test_dataloader:\n",
    "        img = img.to(device)\n",
    "        label = label.to(device)\n",
    "        output = model(img)\n",
    "        _, predicted = torch.max(output.data, 1)\n",
    "        total += label.size(0)\n",
    "        correct += (predicted == label).sum().item()\n",
    "        \n",
    "    print('Test Accuracy of the model on the 10000 test images: {} %'.format(100 * correct / total))"
   ]
  },
  {
   "cell_type": "code",
   "execution_count": null,
   "id": "744e5050",
   "metadata": {},
   "outputs": [],
   "source": []
  }
 ],
 "metadata": {
  "kernelspec": {
   "display_name": "Python 3 (ipykernel)",
   "language": "python",
   "name": "python3"
  },
  "language_info": {
   "codemirror_mode": {
    "name": "ipython",
    "version": 3
   },
   "file_extension": ".py",
   "mimetype": "text/x-python",
   "name": "python",
   "nbconvert_exporter": "python",
   "pygments_lexer": "ipython3",
   "version": "3.11.5"
  }
 },
 "nbformat": 4,
 "nbformat_minor": 5
}
